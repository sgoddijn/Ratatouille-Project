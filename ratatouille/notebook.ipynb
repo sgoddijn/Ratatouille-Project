{
 "cells": [
  {
   "cell_type": "markdown",
   "metadata": {},
   "source": [
    "# Dev notebook"
   ]
  },
  {
   "cell_type": "code",
   "execution_count": 1,
   "metadata": {},
   "outputs": [],
   "source": [
    "from ratatouille.chains import generate_meal, generate_meal_plan_day"
   ]
  },
  {
   "cell_type": "code",
   "execution_count": 3,
   "metadata": {},
   "outputs": [
    {
     "name": "stdout",
     "output_type": "stream",
     "text": [
      "Creamy Chicken and Mushroom Casserole\n",
      "A warm and comforting casserole perfect for a cold night\n",
      "\n",
      "Ingridients:\n",
      "500.0 grams Chicken breasts\n",
      "300.0 grams Mushrooms\n",
      "100.0 grams Onion\n",
      "2.0 cloves Garlic\n",
      "500.0 ml Chicken broth\n",
      "200.0 ml Heavy cream\n",
      "50.0 grams Butter\n",
      "50.0 grams Flour\n",
      "1.0 teaspoon Salt\n",
      "1.0 teaspoon Pepper\n",
      "1.0 teaspoon Thyme\n",
      "50.0 grams Parmesan cheese\n",
      "300.0 grams Pasta\n",
      "\n",
      "Instructions:\n",
      "Preheat the oven to 375°F.\n",
      "In a large skillet, cook chicken until browned. Remove and set aside.\n",
      "In the same skillet, sauté mushrooms, onion, and garlic until tender.\n",
      "Add butter and flour to the skillet, stirring until thickened.\n",
      "Gradually pour in chicken broth and heavy cream, stirring constantly.\n",
      "Add salt, pepper, and thyme. Simmer until the sauce thickens.\n",
      "Stir in cooked chicken and cooked pasta.\n",
      "Transfer mixture to a casserole dish, top with Parmesan cheese, and bake for 25-30 minutes.\n",
      "\n",
      "\n"
     ]
    }
   ],
   "source": [
    "meal = generate_meal(\"A hearty meal for a cold night\")\n",
    "print(meal)"
   ]
  },
  {
   "cell_type": "code",
   "execution_count": 4,
   "metadata": {},
   "outputs": [
    {
     "name": "stdout",
     "output_type": "stream",
     "text": [
      "Avocado and Egg Toast\n",
      "Healthy and filling breakfast option\n",
      "\n",
      "Ingridients:\n",
      "50.0 grams Avocado\n",
      "2.0 pieces Egg\n",
      "2.0 slices Whole grain bread\n",
      "50.0 grams Cherry tomatoes\n",
      "0.5 teaspoon Salt\n",
      "0.5 teaspoon Black pepper\n",
      "\n",
      "Instructions:\n",
      "Toast the whole grain bread slices.\n",
      "Mash the avocado and spread it on the toast.\n",
      "Cook the eggs as desired and place them on top of the avocado mash.\n",
      "Season with salt and black pepper.\n",
      "Serve with cherry tomatoes on the side.\n",
      "\n",
      "\n"
     ]
    }
   ],
   "source": [
    "description = \"\"\"\n",
    "Today I want to eat three times.\n",
    "I will be at my desk most of the day.\n",
    "I am planning on working out in the afternoon.\n",
    "I want low calories but nutritous for recovery\n",
    "\"\"\"\n",
    "day_meal_plane = generate_meal_plan_day(description)\n",
    "print(day_meal_plane.meals[0])"
   ]
  },
  {
   "cell_type": "code",
   "execution_count": 5,
   "metadata": {},
   "outputs": [
    {
     "name": "stdout",
     "output_type": "stream",
     "text": [
      "Quinoa and Veggie Salad\n",
      "Light and protein-packed lunch option\n",
      "\n",
      "Ingridients:\n",
      "100.0 grams Quinoa\n",
      "150.0 grams Mixed vegetables (bell peppers, cucumbers, carrots)\n",
      "50.0 grams Chickpeas\n",
      "1.0 tablespoon Lemon juice\n",
      "1.0 tablespoon Olive oil\n",
      "0.5 teaspoon Salt\n",
      "0.5 teaspoon Black pepper\n",
      "\n",
      "Instructions:\n",
      "Cook quinoa according to package instructions and let it cool.\n",
      "Chop the mixed vegetables and mix them with quinoa and chickpeas in a bowl.\n",
      "Whisk together lemon juice, olive oil, salt, and black pepper to make a dressing.\n",
      "Pour the dressing over the salad and toss to combine.\n",
      "\n",
      "\n"
     ]
    }
   ],
   "source": [
    "print(day_meal_plane.meals[1])"
   ]
  },
  {
   "cell_type": "code",
   "execution_count": 6,
   "metadata": {},
   "outputs": [
    {
     "name": "stdout",
     "output_type": "stream",
     "text": [
      "Grilled Chicken and Vegetables\n",
      "Protein-rich and flavorful dinner option\n",
      "\n",
      "Ingridients:\n",
      "150.0 grams Chicken breast\n",
      "100.0 grams Bell peppers\n",
      "100.0 grams Zucchini\n",
      "1.0 tablespoon Olive oil\n",
      "1.0 teaspoon Garlic powder\n",
      "1.0 teaspoon Paprika\n",
      "0.5 teaspoon Salt\n",
      "0.5 teaspoon Black pepper\n",
      "\n",
      "Instructions:\n",
      "Marinate chicken breast with olive oil, garlic powder, paprika, salt, and black pepper.\n",
      "Grill the marinated chicken breast until fully cooked.\n",
      "Grill the bell peppers and zucchini with olive oil, salt, and black pepper until tender.\n",
      "Serve the grilled chicken and vegetables together.\n",
      "\n",
      "\n"
     ]
    }
   ],
   "source": [
    "print(day_meal_plane.meals[2])"
   ]
  },
  {
   "cell_type": "code",
   "execution_count": null,
   "metadata": {},
   "outputs": [],
   "source": []
  }
 ],
 "metadata": {
  "kernelspec": {
   "display_name": "venv",
   "language": "python",
   "name": "python3"
  },
  "language_info": {
   "codemirror_mode": {
    "name": "ipython",
    "version": 3
   },
   "file_extension": ".py",
   "mimetype": "text/x-python",
   "name": "python",
   "nbconvert_exporter": "python",
   "pygments_lexer": "ipython3",
   "version": "3.13.1"
  }
 },
 "nbformat": 4,
 "nbformat_minor": 2
}
