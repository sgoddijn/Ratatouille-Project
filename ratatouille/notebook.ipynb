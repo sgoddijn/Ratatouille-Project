{
 "cells": [
  {
   "cell_type": "markdown",
   "metadata": {},
   "source": [
    "# Dev notebook"
   ]
  },
  {
   "cell_type": "code",
   "execution_count": 1,
   "metadata": {},
   "outputs": [],
   "source": [
    "from ratatouille.chains import generate_meal, generate_meal_plan_day\n",
    "from langchain_anthropic import ChatAnthropic\n",
    "from langchain_openai import ChatOpenAI\n",
    "\n",
    "anthropic_llm = ChatAnthropic(model_name=\"claude-3-5-haiku-latest\")\n",
    "openai_llm = ChatOpenAI(model=\"gpt-4o-mini\")"
   ]
  },
  {
   "cell_type": "code",
   "execution_count": 2,
   "metadata": {},
   "outputs": [
    {
     "name": "stdout",
     "output_type": "stream",
     "text": [
      "Rustic Beef and Root Vegetable Stew\n",
      "A warming, rich stew packed with tender beef and hearty winter vegetables that will chase away the cold and comfort your soul\n",
      "\n",
      "Ingridients:\n",
      "800.0 grams beef chuck\n",
      "250.0 grams carrots\n",
      "200.0 grams parsnips\n",
      "150.0 grams onions\n",
      "4.0 cloves garlic\n",
      "500.0 milliliters beef broth\n",
      "250.0 milliliters red wine\n",
      "3.0 sprigs fresh thyme\n",
      "2.0 pieces bay leaves\n",
      "30.0 milliliters olive oil\n",
      "10.0 grams salt\n",
      "5.0 grams black pepper\n",
      "\n",
      "Instructions:\n",
      "Cut beef chuck into 2-cm cubes and pat dry with paper towels\n",
      "Season beef generously with salt and black pepper\n",
      "Heat olive oil in a large Dutch oven over medium-high heat\n",
      "Brown beef cubes in batches, ensuring a deep golden crust on each piece\n",
      "Remove beef and set aside, then sauté chopped onions and garlic in the same pot\n",
      "Deglaze the pot with red wine, scraping up all the flavorful brown bits\n",
      "Return beef to the pot and add beef broth, thyme, and bay leaves\n",
      "Simmer covered on low heat for 1.5 hours, stirring occasionally\n",
      "Add chopped carrots and parsnips, continue cooking for 30 more minutes\n",
      "Remove bay leaves before serving\n",
      "Serve hot in deep bowls with crusty bread\n",
      "\n",
      "\n"
     ]
    }
   ],
   "source": [
    "anthropic_meal = generate_meal(\"A hearty meal for a cold night\", anthropic_llm)\n",
    "print(anthropic_meal)"
   ]
  },
  {
   "cell_type": "code",
   "execution_count": 3,
   "metadata": {},
   "outputs": [
    {
     "name": "stdout",
     "output_type": "stream",
     "text": [
      "Hearty Beef Stew\n",
      "A warm and filling beef stew perfect for a cold evening, packed with tender beef, hearty vegetables, and rich flavors.\n",
      "\n",
      "Ingridients:\n",
      "900.0 grams Beef chuck\n",
      "250.0 grams Carrots\n",
      "300.0 grams Potatoes\n",
      "150.0 grams Onion\n",
      "10.0 grams Garlic\n",
      "1000.0 milliliters Beef broth\n",
      "250.0 milliliters Red wine\n",
      "30.0 milliliters Olive oil\n",
      "5.0 grams Thyme\n",
      "2.0 pieces Bay leaves\n",
      "10.0 grams Salt\n",
      "5.0 grams Black pepper\n",
      "\n",
      "Instructions:\n",
      "Cut the beef into 2-inch cubes and season with salt and pepper.\n",
      "Heat the olive oil in a large pot over medium heat and sear the beef until browned on all sides.\n",
      "Remove beef from the pot and set aside. In the same pot, add chopped onions and garlic, sauté until onions are translucent.\n",
      "Add chopped carrots and potatoes to the pot, cook for another 5 minutes.\n",
      "Pour in the red wine, scraping the bottom of the pot to release any browned bits.\n",
      "Add the beef back into the pot, add the beef broth, thyme, and bay leaves. Bring to a boil.\n",
      "Reduce the heat and let it simmer for 2 hours, or until the beef is tender and the stew has thickened.\n",
      "\n",
      "\n"
     ]
    }
   ],
   "source": [
    "openain_meal = generate_meal(\"A hearty meal for a cold night\", openai_llm)\n",
    "print(openain_meal)"
   ]
  },
  {
   "cell_type": "code",
   "execution_count": 4,
   "metadata": {},
   "outputs": [
    {
     "name": "stdout",
     "output_type": "stream",
     "text": [
      "Avocado and Egg Toast\n",
      "Healthy and filling breakfast option\n",
      "\n",
      "Ingridients:\n",
      "50.0 grams Avocado\n",
      "2.0 pieces Egg\n",
      "2.0 slices Whole grain bread\n",
      "50.0 grams Cherry tomatoes\n",
      "0.5 teaspoon Salt\n",
      "0.5 teaspoon Black pepper\n",
      "\n",
      "Instructions:\n",
      "Toast the whole grain bread slices.\n",
      "Mash the avocado and spread it on the toast.\n",
      "Cook the eggs as desired and place them on top of the avocado mash.\n",
      "Season with salt and black pepper.\n",
      "Serve with cherry tomatoes on the side.\n",
      "\n",
      "\n"
     ]
    }
   ],
   "source": [
    "description = \"\"\"\n",
    "Today I want to eat three times.\n",
    "I will be at my desk most of the day.\n",
    "I am planning on working out in the afternoon.\n",
    "I want low calories but nutritous for recovery\n",
    "\"\"\"\n",
    "day_meal_plane = generate_meal_plan_day(description)\n",
    "print(day_meal_plane.meals[0])"
   ]
  },
  {
   "cell_type": "code",
   "execution_count": 5,
   "metadata": {},
   "outputs": [
    {
     "name": "stdout",
     "output_type": "stream",
     "text": [
      "Quinoa and Veggie Salad\n",
      "Light and protein-packed lunch option\n",
      "\n",
      "Ingridients:\n",
      "100.0 grams Quinoa\n",
      "150.0 grams Mixed vegetables (bell peppers, cucumbers, carrots)\n",
      "50.0 grams Chickpeas\n",
      "1.0 tablespoon Lemon juice\n",
      "1.0 tablespoon Olive oil\n",
      "0.5 teaspoon Salt\n",
      "0.5 teaspoon Black pepper\n",
      "\n",
      "Instructions:\n",
      "Cook quinoa according to package instructions and let it cool.\n",
      "Chop the mixed vegetables and mix them with quinoa and chickpeas in a bowl.\n",
      "Whisk together lemon juice, olive oil, salt, and black pepper to make a dressing.\n",
      "Pour the dressing over the salad and toss to combine.\n",
      "\n",
      "\n"
     ]
    }
   ],
   "source": [
    "print(day_meal_plane.meals[1])"
   ]
  },
  {
   "cell_type": "code",
   "execution_count": 6,
   "metadata": {},
   "outputs": [
    {
     "name": "stdout",
     "output_type": "stream",
     "text": [
      "Grilled Chicken and Vegetables\n",
      "Protein-rich and flavorful dinner option\n",
      "\n",
      "Ingridients:\n",
      "150.0 grams Chicken breast\n",
      "100.0 grams Bell peppers\n",
      "100.0 grams Zucchini\n",
      "1.0 tablespoon Olive oil\n",
      "1.0 teaspoon Garlic powder\n",
      "1.0 teaspoon Paprika\n",
      "0.5 teaspoon Salt\n",
      "0.5 teaspoon Black pepper\n",
      "\n",
      "Instructions:\n",
      "Marinate chicken breast with olive oil, garlic powder, paprika, salt, and black pepper.\n",
      "Grill the marinated chicken breast until fully cooked.\n",
      "Grill the bell peppers and zucchini with olive oil, salt, and black pepper until tender.\n",
      "Serve the grilled chicken and vegetables together.\n",
      "\n",
      "\n"
     ]
    }
   ],
   "source": [
    "print(day_meal_plane.meals[2])"
   ]
  },
  {
   "cell_type": "code",
   "execution_count": null,
   "metadata": {},
   "outputs": [],
   "source": []
  }
 ],
 "metadata": {
  "kernelspec": {
   "display_name": "venv",
   "language": "python",
   "name": "python3"
  },
  "language_info": {
   "codemirror_mode": {
    "name": "ipython",
    "version": 3
   },
   "file_extension": ".py",
   "mimetype": "text/x-python",
   "name": "python",
   "nbconvert_exporter": "python",
   "pygments_lexer": "ipython3",
   "version": "3.13.1"
  }
 },
 "nbformat": 4,
 "nbformat_minor": 2
}
